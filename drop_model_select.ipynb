{
 "cells": [
  {
   "cell_type": "code",
   "execution_count": 51,
   "metadata": {},
   "outputs": [],
   "source": [
    "import pandas as pd\n",
    "import matplotlib.pyplot as plt\n",
    "import seaborn as sns\n",
    "import numpy as np\n",
    "\n",
    "import scipy.stats as stats\n",
    "from scipy import special\n",
    "\n",
    "from sklearn.preprocessing import OneHotEncoder\n",
    "from sklearn.model_selection import GridSearchCV, cross_val_score, train_test_split\n",
    "\n",
    "from xgboost import XGBRegressor\n",
    "from lightgbm import LGBMRegressor\n",
    "from sklearn.linear_model import LinearRegression, Lasso, Ridge\n",
    "from sklearn.tree import DecisionTreeRegressor\n",
    "from sklearn.ensemble import RandomForestRegressor, StackingRegressor, VotingRegressor\n",
    "\n",
    "from sklearn.metrics import r2_score, mean_squared_error"
   ]
  },
  {
   "cell_type": "code",
   "execution_count": 52,
   "metadata": {},
   "outputs": [],
   "source": [
    "def one_hot(data, cols):\n",
    "    oh_encoder = OneHotEncoder()\n",
    "\n",
    "    oh = oh_encoder.fit_transform(data[cols])\n",
    "    oh_df = pd.DataFrame(oh.toarray().astype(int), columns=oh_encoder.get_feature_names_out())\n",
    "    \n",
    "    return pd.concat([data.drop(cols, axis =1), oh_df], axis=1)"
   ]
  },
  {
   "attachments": {},
   "cell_type": "markdown",
   "metadata": {},
   "source": [
    "# 데이터"
   ]
  },
  {
   "cell_type": "code",
   "execution_count": 53,
   "metadata": {},
   "outputs": [],
   "source": [
    "benz= pd.read_csv('./Data/benz/train.csv')\n",
    "benz_test = pd.read_csv('./Data/benz/test.csv')"
   ]
  },
  {
   "cell_type": "code",
   "execution_count": 54,
   "metadata": {},
   "outputs": [],
   "source": [
    "# type이 int인 column 추출\n",
    "int_columns = benz.loc[:, benz.dtypes == 'int64'].columns\n",
    "\n",
    "zero_col = list()\n",
    "cont_col = list()\n",
    "cate_col = list()\n",
    "\n",
    "for col in int_columns:\n",
    "    if len(benz[col].unique()) == 1:\n",
    "        zero_col.append(col)\n",
    "    elif len(benz[col].unique()) == 2:\n",
    "        cate_col.append(col)\n",
    "    else:\n",
    "        cont_col.append(col)"
   ]
  },
  {
   "cell_type": "code",
   "execution_count": 55,
   "metadata": {},
   "outputs": [],
   "source": [
    "# type이 object인 column 추출\n",
    "object_columns = benz.loc[:, benz.dtypes == object].columns"
   ]
  },
  {
   "cell_type": "code",
   "execution_count": 56,
   "metadata": {},
   "outputs": [],
   "source": [
    "test = benz_test.copy()\n",
    "train = benz.copy()"
   ]
  },
  {
   "cell_type": "code",
   "execution_count": 57,
   "metadata": {},
   "outputs": [],
   "source": [
    "none_train = list()\n",
    "\n",
    "for ob in object_columns:\n",
    "    if len(set(benz_test[ob]) - set(benz[ob])) > 0:\n",
    "        none_train.append(ob)\n",
    "\n",
    "train = train.drop(none_train, axis=1)\n",
    "object_col = object_columns.drop(none_train)"
   ]
  },
  {
   "cell_type": "code",
   "execution_count": 58,
   "metadata": {},
   "outputs": [],
   "source": [
    "# object type의 변수들 one hot encoding\n",
    "train_oh_df = one_hot(train, object_col)\n",
    "test_oh_df = one_hot(test, object_col)"
   ]
  },
  {
   "cell_type": "code",
   "execution_count": 59,
   "metadata": {},
   "outputs": [
    {
     "name": "stderr",
     "output_type": "stream",
     "text": [
      "C:\\Users\\medici\\AppData\\Local\\Temp\\ipykernel_21696\\1497422311.py:7: SettingWithCopyWarning: \n",
      "A value is trying to be set on a copy of a slice from a DataFrame.\n",
      "Try using .loc[row_indexer,col_indexer] = value instead\n",
      "\n",
      "See the caveats in the documentation: https://pandas.pydata.org/pandas-docs/stable/user_guide/indexing.html#returning-a-view-versus-a-copy\n",
      "  train_box_out['y'], maxlog = stats.boxcox(train_box_out['y'])\n"
     ]
    }
   ],
   "source": [
    "# box cox scaling\n",
    "train_box = train_oh_df.copy()\n",
    "\n",
    "train_box_out = train_box[train_box['y'] < 200]\n",
    "\n",
    "train_box['y'], maxlog = stats.boxcox(train_box['y'])\n",
    "train_box_out['y'], maxlog = stats.boxcox(train_box_out['y'])"
   ]
  },
  {
   "cell_type": "code",
   "execution_count": 60,
   "metadata": {},
   "outputs": [],
   "source": [
    "datas = {'box' : train_box, 'box_out' : train_box_out}"
   ]
  },
  {
   "attachments": {},
   "cell_type": "markdown",
   "metadata": {},
   "source": [
    "# 여러가지 모델 학습\n",
    "(XGB, lightGBM, Randomforest, Ridge, Lasso, DecisionTree, LinearRegression)"
   ]
  },
  {
   "attachments": {},
   "cell_type": "markdown",
   "metadata": {},
   "source": [
    "## base model"
   ]
  },
  {
   "cell_type": "code",
   "execution_count": 61,
   "metadata": {},
   "outputs": [],
   "source": [
    "def regression(data, reg):\n",
    "    X = data.drop(['y'], axis=1)\n",
    "    y = data.y\n",
    "\n",
    "    scores = cross_val_score(reg, X, y, scoring='r2', cv=5)\n",
    "\n",
    "    return np.round(np.mean(scores), 4)"
   ]
  },
  {
   "cell_type": "code",
   "execution_count": 62,
   "metadata": {},
   "outputs": [],
   "source": [
    "lr_reg = LinearRegression()\n",
    "ridge = Ridge()\n",
    "lasso = Lasso(alpha=0.1)\n",
    "dt_reg = DecisionTreeRegressor()\n",
    "rf_reg = RandomForestRegressor()\n",
    "xgb_reg = XGBRegressor()\n",
    "lgbm_reg = LGBMRegressor()\n",
    "\n",
    "regs = {'LR':lr_reg, 'Lasso' : lasso, 'Ridge' : ridge, 'DT':dt_reg, 'RF' : rf_reg, 'XGB' : xgb_reg, 'LGBM' : lgbm_reg}\n",
    "scores = list()"
   ]
  },
  {
   "cell_type": "code",
   "execution_count": 63,
   "metadata": {},
   "outputs": [],
   "source": [
    "for key, val in datas.items():\n",
    "   for reg in regs.values():\n",
    "        scores.append([key, reg.__class__.__name__, regression(val, reg)])"
   ]
  },
  {
   "cell_type": "code",
   "execution_count": 64,
   "metadata": {},
   "outputs": [
    {
     "data": {
      "text/html": [
       "<div>\n",
       "<style scoped>\n",
       "    .dataframe tbody tr th:only-of-type {\n",
       "        vertical-align: middle;\n",
       "    }\n",
       "\n",
       "    .dataframe tbody tr th {\n",
       "        vertical-align: top;\n",
       "    }\n",
       "\n",
       "    .dataframe thead th {\n",
       "        text-align: right;\n",
       "    }\n",
       "</style>\n",
       "<table border=\"1\" class=\"dataframe\">\n",
       "  <thead>\n",
       "    <tr style=\"text-align: right;\">\n",
       "      <th></th>\n",
       "      <th>key</th>\n",
       "      <th>reg</th>\n",
       "      <th>mean_test_score</th>\n",
       "    </tr>\n",
       "  </thead>\n",
       "  <tbody>\n",
       "    <tr>\n",
       "      <th>0</th>\n",
       "      <td>box_out</td>\n",
       "      <td>LGBMRegressor</td>\n",
       "      <td>0.6376</td>\n",
       "    </tr>\n",
       "    <tr>\n",
       "      <th>1</th>\n",
       "      <td>box</td>\n",
       "      <td>LGBMRegressor</td>\n",
       "      <td>0.6294</td>\n",
       "    </tr>\n",
       "    <tr>\n",
       "      <th>2</th>\n",
       "      <td>box_out</td>\n",
       "      <td>Ridge</td>\n",
       "      <td>0.6254</td>\n",
       "    </tr>\n",
       "    <tr>\n",
       "      <th>3</th>\n",
       "      <td>box</td>\n",
       "      <td>Ridge</td>\n",
       "      <td>0.6230</td>\n",
       "    </tr>\n",
       "    <tr>\n",
       "      <th>4</th>\n",
       "      <td>box_out</td>\n",
       "      <td>LinearRegression</td>\n",
       "      <td>0.6154</td>\n",
       "    </tr>\n",
       "    <tr>\n",
       "      <th>5</th>\n",
       "      <td>box</td>\n",
       "      <td>LinearRegression</td>\n",
       "      <td>0.6129</td>\n",
       "    </tr>\n",
       "    <tr>\n",
       "      <th>6</th>\n",
       "      <td>box</td>\n",
       "      <td>XGBRegressor</td>\n",
       "      <td>0.6072</td>\n",
       "    </tr>\n",
       "    <tr>\n",
       "      <th>7</th>\n",
       "      <td>box_out</td>\n",
       "      <td>RandomForestRegressor</td>\n",
       "      <td>0.5035</td>\n",
       "    </tr>\n",
       "    <tr>\n",
       "      <th>8</th>\n",
       "      <td>box_out</td>\n",
       "      <td>XGBRegressor</td>\n",
       "      <td>0.4856</td>\n",
       "    </tr>\n",
       "    <tr>\n",
       "      <th>9</th>\n",
       "      <td>box</td>\n",
       "      <td>RandomForestRegressor</td>\n",
       "      <td>0.4114</td>\n",
       "    </tr>\n",
       "    <tr>\n",
       "      <th>10</th>\n",
       "      <td>box_out</td>\n",
       "      <td>Lasso</td>\n",
       "      <td>-0.0069</td>\n",
       "    </tr>\n",
       "    <tr>\n",
       "      <th>11</th>\n",
       "      <td>box</td>\n",
       "      <td>Lasso</td>\n",
       "      <td>-0.0072</td>\n",
       "    </tr>\n",
       "    <tr>\n",
       "      <th>12</th>\n",
       "      <td>box_out</td>\n",
       "      <td>DecisionTreeRegressor</td>\n",
       "      <td>-0.1058</td>\n",
       "    </tr>\n",
       "    <tr>\n",
       "      <th>13</th>\n",
       "      <td>box</td>\n",
       "      <td>DecisionTreeRegressor</td>\n",
       "      <td>-1.0550</td>\n",
       "    </tr>\n",
       "  </tbody>\n",
       "</table>\n",
       "</div>"
      ],
      "text/plain": [
       "        key                    reg  mean_test_score\n",
       "0   box_out          LGBMRegressor           0.6376\n",
       "1       box          LGBMRegressor           0.6294\n",
       "2   box_out                  Ridge           0.6254\n",
       "3       box                  Ridge           0.6230\n",
       "4   box_out       LinearRegression           0.6154\n",
       "5       box       LinearRegression           0.6129\n",
       "6       box           XGBRegressor           0.6072\n",
       "7   box_out  RandomForestRegressor           0.5035\n",
       "8   box_out           XGBRegressor           0.4856\n",
       "9       box  RandomForestRegressor           0.4114\n",
       "10  box_out                  Lasso          -0.0069\n",
       "11      box                  Lasso          -0.0072\n",
       "12  box_out  DecisionTreeRegressor          -0.1058\n",
       "13      box  DecisionTreeRegressor          -1.0550"
      ]
     },
     "execution_count": 64,
     "metadata": {},
     "output_type": "execute_result"
    }
   ],
   "source": [
    "df = pd.DataFrame(scores, columns=['key', 'reg','mean_test_score']).sort_values('mean_test_score', ascending=False)\n",
    "df.reset_index(drop=True)"
   ]
  },
  {
   "attachments": {},
   "cell_type": "markdown",
   "metadata": {},
   "source": [
    "결론\n",
    "1. regression model에서 Lasso, DecisionTree 제외"
   ]
  },
  {
   "attachments": {},
   "cell_type": "markdown",
   "metadata": {},
   "source": [
    "## 하이퍼파라미터 튜닝"
   ]
  },
  {
   "cell_type": "code",
   "execution_count": 65,
   "metadata": {},
   "outputs": [],
   "source": [
    "def grid_regression(data, reg, params = None, score = 'r2'):\n",
    "    X = data.drop(['y'], axis=1)\n",
    "    y = data.y\n",
    "\n",
    "    grid = GridSearchCV(reg, param_grid=params, scoring=score, n_jobs = -1, cv = 5, refit=False)\n",
    "        \n",
    "    grid.fit(X, y)\n",
    "\n",
    "    para = grid.cv_results_['params']\n",
    "    r2 = grid.cv_results_[\"mean_test_r2\"]\n",
    "    mse_score = grid.cv_results_[\"mean_test_neg_mean_squared_error\"]\n",
    "\n",
    "    return r2, mse_score, para"
   ]
  },
  {
   "cell_type": "code",
   "execution_count": 66,
   "metadata": {},
   "outputs": [],
   "source": [
    "ridge = Ridge()\n",
    "rf_reg = RandomForestRegressor()\n",
    "xgb_reg = XGBRegressor()\n",
    "lgbm_reg = LGBMRegressor()\n",
    "\n",
    "regs = {'Ridge' : ridge, 'RF' : rf_reg, 'XGB' : xgb_reg, 'LGBM' : lgbm_reg}\n",
    "\n",
    "reg_params = {'Ridge' : {'alpha':[20, 30, 40, 50]}, 'RF' : {'n_estimators':[10, 20, 30, 50], 'max_depth':[3, 4, 5, 6], 'min_samples_split':[32, 64, 128]}, \n",
    "              'XGB' : {'n_estimators':[20, 25, 30], 'max_depth':[3, 4, 5, 6]}, 'LGBM' : {'learning_rate':[0.01, 0.05, 0.1], 'max_depth':[3, 4, 5, 6]}}"
   ]
  },
  {
   "cell_type": "code",
   "execution_count": 67,
   "metadata": {},
   "outputs": [],
   "source": [
    "total_scores = pd.DataFrame()\n",
    "scoring = ['r2','neg_mean_squared_error']\n",
    "\n",
    "for key, val in datas.items():\n",
    "    for reg in regs.keys():\n",
    "        r2, mse_score, para = grid_regression(data = datas[key], reg=regs[reg], score=scoring, params=reg_params[reg])\n",
    "    \n",
    "        temp = pd.DataFrame({'data':[key for _ in range(len(r2))], 'reg':[reg  for _ in range(len(r2))], 'params': para, 'r2 score':r2, 'mse score':mse_score})\n",
    "        total_scores = pd.concat([total_scores, temp])"
   ]
  },
  {
   "cell_type": "code",
   "execution_count": 68,
   "metadata": {},
   "outputs": [
    {
     "data": {
      "text/html": [
       "<div>\n",
       "<style scoped>\n",
       "    .dataframe tbody tr th:only-of-type {\n",
       "        vertical-align: middle;\n",
       "    }\n",
       "\n",
       "    .dataframe tbody tr th {\n",
       "        vertical-align: top;\n",
       "    }\n",
       "\n",
       "    .dataframe thead th {\n",
       "        text-align: right;\n",
       "    }\n",
       "</style>\n",
       "<table border=\"1\" class=\"dataframe\">\n",
       "  <thead>\n",
       "    <tr style=\"text-align: right;\">\n",
       "      <th></th>\n",
       "      <th>data</th>\n",
       "      <th>reg</th>\n",
       "      <th>params</th>\n",
       "      <th>r2 score</th>\n",
       "      <th>mse score</th>\n",
       "    </tr>\n",
       "  </thead>\n",
       "  <tbody>\n",
       "    <tr>\n",
       "      <th>1</th>\n",
       "      <td>box_out</td>\n",
       "      <td>XGB</td>\n",
       "      <td>{'max_depth': 3, 'n_estimators': 25}</td>\n",
       "      <td>0.664137</td>\n",
       "      <td>-0.000008</td>\n",
       "    </tr>\n",
       "    <tr>\n",
       "      <th>4</th>\n",
       "      <td>box_out</td>\n",
       "      <td>LGBM</td>\n",
       "      <td>{'learning_rate': 0.05, 'max_depth': 3}</td>\n",
       "      <td>0.663955</td>\n",
       "      <td>-0.000008</td>\n",
       "    </tr>\n",
       "    <tr>\n",
       "      <th>5</th>\n",
       "      <td>box_out</td>\n",
       "      <td>LGBM</td>\n",
       "      <td>{'learning_rate': 0.05, 'max_depth': 4}</td>\n",
       "      <td>0.659373</td>\n",
       "      <td>-0.000008</td>\n",
       "    </tr>\n",
       "    <tr>\n",
       "      <th>20</th>\n",
       "      <td>box_out</td>\n",
       "      <td>RF</td>\n",
       "      <td>{'max_depth': 4, 'min_samples_split': 128, 'n_...</td>\n",
       "      <td>0.658904</td>\n",
       "      <td>-0.000008</td>\n",
       "    </tr>\n",
       "    <tr>\n",
       "      <th>8</th>\n",
       "      <td>box_out</td>\n",
       "      <td>LGBM</td>\n",
       "      <td>{'learning_rate': 0.1, 'max_depth': 3}</td>\n",
       "      <td>0.657644</td>\n",
       "      <td>-0.000008</td>\n",
       "    </tr>\n",
       "  </tbody>\n",
       "</table>\n",
       "</div>"
      ],
      "text/plain": [
       "       data   reg                                             params  \\\n",
       "1   box_out   XGB               {'max_depth': 3, 'n_estimators': 25}   \n",
       "4   box_out  LGBM            {'learning_rate': 0.05, 'max_depth': 3}   \n",
       "5   box_out  LGBM            {'learning_rate': 0.05, 'max_depth': 4}   \n",
       "20  box_out    RF  {'max_depth': 4, 'min_samples_split': 128, 'n_...   \n",
       "8   box_out  LGBM             {'learning_rate': 0.1, 'max_depth': 3}   \n",
       "\n",
       "    r2 score  mse score  \n",
       "1   0.664137  -0.000008  \n",
       "4   0.663955  -0.000008  \n",
       "5   0.659373  -0.000008  \n",
       "20  0.658904  -0.000008  \n",
       "8   0.657644  -0.000008  "
      ]
     },
     "execution_count": 68,
     "metadata": {},
     "output_type": "execute_result"
    }
   ],
   "source": [
    "total_scores.sort_values('r2 score', ascending=False)[:5]"
   ]
  },
  {
   "cell_type": "code",
   "execution_count": 69,
   "metadata": {},
   "outputs": [
    {
     "data": {
      "text/html": [
       "<div>\n",
       "<style scoped>\n",
       "    .dataframe tbody tr th:only-of-type {\n",
       "        vertical-align: middle;\n",
       "    }\n",
       "\n",
       "    .dataframe tbody tr th {\n",
       "        vertical-align: top;\n",
       "    }\n",
       "\n",
       "    .dataframe thead th {\n",
       "        text-align: right;\n",
       "    }\n",
       "</style>\n",
       "<table border=\"1\" class=\"dataframe\">\n",
       "  <thead>\n",
       "    <tr style=\"text-align: right;\">\n",
       "      <th></th>\n",
       "      <th>data</th>\n",
       "      <th>reg</th>\n",
       "      <th>params</th>\n",
       "      <th>r2 score</th>\n",
       "      <th>mse score</th>\n",
       "    </tr>\n",
       "  </thead>\n",
       "  <tbody>\n",
       "    <tr>\n",
       "      <th>1</th>\n",
       "      <td>box_out</td>\n",
       "      <td>XGB</td>\n",
       "      <td>{'max_depth': 3, 'n_estimators': 25}</td>\n",
       "      <td>0.664137</td>\n",
       "      <td>-0.000008</td>\n",
       "    </tr>\n",
       "  </tbody>\n",
       "</table>\n",
       "</div>"
      ],
      "text/plain": [
       "      data  reg                                params  r2 score  mse score\n",
       "1  box_out  XGB  {'max_depth': 3, 'n_estimators': 25}  0.664137  -0.000008"
      ]
     },
     "execution_count": 69,
     "metadata": {},
     "output_type": "execute_result"
    }
   ],
   "source": [
    "total_scores[total_scores['reg'] == 'XGB'].sort_values('r2 score', ascending=False)[:1]"
   ]
  },
  {
   "cell_type": "code",
   "execution_count": 70,
   "metadata": {},
   "outputs": [
    {
     "data": {
      "text/html": [
       "<div>\n",
       "<style scoped>\n",
       "    .dataframe tbody tr th:only-of-type {\n",
       "        vertical-align: middle;\n",
       "    }\n",
       "\n",
       "    .dataframe tbody tr th {\n",
       "        vertical-align: top;\n",
       "    }\n",
       "\n",
       "    .dataframe thead th {\n",
       "        text-align: right;\n",
       "    }\n",
       "</style>\n",
       "<table border=\"1\" class=\"dataframe\">\n",
       "  <thead>\n",
       "    <tr style=\"text-align: right;\">\n",
       "      <th></th>\n",
       "      <th>data</th>\n",
       "      <th>reg</th>\n",
       "      <th>params</th>\n",
       "      <th>r2 score</th>\n",
       "      <th>mse score</th>\n",
       "    </tr>\n",
       "  </thead>\n",
       "  <tbody>\n",
       "    <tr>\n",
       "      <th>4</th>\n",
       "      <td>box_out</td>\n",
       "      <td>LGBM</td>\n",
       "      <td>{'learning_rate': 0.05, 'max_depth': 3}</td>\n",
       "      <td>0.663955</td>\n",
       "      <td>-0.000008</td>\n",
       "    </tr>\n",
       "  </tbody>\n",
       "</table>\n",
       "</div>"
      ],
      "text/plain": [
       "      data   reg                                   params  r2 score  mse score\n",
       "4  box_out  LGBM  {'learning_rate': 0.05, 'max_depth': 3}  0.663955  -0.000008"
      ]
     },
     "execution_count": 70,
     "metadata": {},
     "output_type": "execute_result"
    }
   ],
   "source": [
    "total_scores[total_scores['reg'] == 'LGBM'].sort_values('r2 score', ascending=False)[:1]"
   ]
  },
  {
   "cell_type": "code",
   "execution_count": 71,
   "metadata": {},
   "outputs": [
    {
     "data": {
      "text/html": [
       "<div>\n",
       "<style scoped>\n",
       "    .dataframe tbody tr th:only-of-type {\n",
       "        vertical-align: middle;\n",
       "    }\n",
       "\n",
       "    .dataframe tbody tr th {\n",
       "        vertical-align: top;\n",
       "    }\n",
       "\n",
       "    .dataframe thead th {\n",
       "        text-align: right;\n",
       "    }\n",
       "</style>\n",
       "<table border=\"1\" class=\"dataframe\">\n",
       "  <thead>\n",
       "    <tr style=\"text-align: right;\">\n",
       "      <th></th>\n",
       "      <th>data</th>\n",
       "      <th>reg</th>\n",
       "      <th>params</th>\n",
       "      <th>r2 score</th>\n",
       "      <th>mse score</th>\n",
       "    </tr>\n",
       "  </thead>\n",
       "  <tbody>\n",
       "    <tr>\n",
       "      <th>2</th>\n",
       "      <td>box_out</td>\n",
       "      <td>Ridge</td>\n",
       "      <td>{'alpha': 40}</td>\n",
       "      <td>0.639189</td>\n",
       "      <td>-0.000009</td>\n",
       "    </tr>\n",
       "  </tbody>\n",
       "</table>\n",
       "</div>"
      ],
      "text/plain": [
       "      data    reg         params  r2 score  mse score\n",
       "2  box_out  Ridge  {'alpha': 40}  0.639189  -0.000009"
      ]
     },
     "execution_count": 71,
     "metadata": {},
     "output_type": "execute_result"
    }
   ],
   "source": [
    "total_scores[total_scores['reg'] == 'Ridge'].sort_values('r2 score', ascending=False)[:1]"
   ]
  },
  {
   "cell_type": "code",
   "execution_count": 72,
   "metadata": {},
   "outputs": [
    {
     "data": {
      "text/html": [
       "<div>\n",
       "<style scoped>\n",
       "    .dataframe tbody tr th:only-of-type {\n",
       "        vertical-align: middle;\n",
       "    }\n",
       "\n",
       "    .dataframe tbody tr th {\n",
       "        vertical-align: top;\n",
       "    }\n",
       "\n",
       "    .dataframe thead th {\n",
       "        text-align: right;\n",
       "    }\n",
       "</style>\n",
       "<table border=\"1\" class=\"dataframe\">\n",
       "  <thead>\n",
       "    <tr style=\"text-align: right;\">\n",
       "      <th></th>\n",
       "      <th>data</th>\n",
       "      <th>reg</th>\n",
       "      <th>r2 score</th>\n",
       "      <th>mse score</th>\n",
       "      <th>max_depth</th>\n",
       "      <th>min_samples_split</th>\n",
       "      <th>n_estimators</th>\n",
       "    </tr>\n",
       "  </thead>\n",
       "  <tbody>\n",
       "    <tr>\n",
       "      <th>0</th>\n",
       "      <td>box_out</td>\n",
       "      <td>RF</td>\n",
       "      <td>0.658904</td>\n",
       "      <td>-0.000008</td>\n",
       "      <td>4</td>\n",
       "      <td>128</td>\n",
       "      <td>10</td>\n",
       "    </tr>\n",
       "  </tbody>\n",
       "</table>\n",
       "</div>"
      ],
      "text/plain": [
       "      data reg  r2 score  mse score  max_depth  min_samples_split  \\\n",
       "0  box_out  RF  0.658904  -0.000008          4                128   \n",
       "\n",
       "   n_estimators  \n",
       "0            10  "
      ]
     },
     "execution_count": 72,
     "metadata": {},
     "output_type": "execute_result"
    }
   ],
   "source": [
    "r2_rf = total_scores[total_scores['reg'] == 'RF'].sort_values('r2 score', ascending=False)\n",
    "pa = pd.json_normalize(r2_rf['params'])\n",
    "\n",
    "r2_rf = pd.concat([r2_rf.drop(columns=['params']).reset_index(drop=True), pa.reset_index(drop=True)], axis=1)\n",
    "\n",
    "r2_rf[:1]\n"
   ]
  },
  {
   "attachments": {},
   "cell_type": "markdown",
   "metadata": {},
   "source": [
    "## stacking"
   ]
  },
  {
   "cell_type": "code",
   "execution_count": 73,
   "metadata": {},
   "outputs": [
    {
     "name": "stdout",
     "output_type": "stream",
     "text": [
      "meta model : xgb, mean r2 score : 0.6608\n",
      "\n",
      "meta model : lgbm, mean r2 score : 0.6589\n",
      "\n",
      "meta model : ridge, mean r2 score : 0.0001\n",
      "\n",
      "meta model : rf, mean r2 score : 0.658\n",
      "\n",
      "meta model : lr, mean r2 score : 0.6664\n",
      "\n"
     ]
    }
   ],
   "source": [
    "models = [\n",
    "    ('xgb', XGBRegressor(max_depth = 3, n_estimators = 25)),\n",
    "    ('lgbm', LGBMRegressor(learning_rate = 0.05, max_depth = 3)),\n",
    "    ('ridge', Ridge(alpha = 40)),\n",
    "    ('rf', RandomForestRegressor(n_estimators = 10, max_depth = 4, min_samples_split = 128)),\n",
    "    ('lr', LinearRegression())\n",
    "]\n",
    "\n",
    "X = train_box_out.drop('y', axis = 1)\n",
    "y = train_box_out.y\n",
    "\n",
    "for i in models:\n",
    "    base_models = [x for x in models if x != i]\n",
    "    sr = StackingRegressor(estimators=base_models, final_estimator=i[1])\n",
    "\n",
    "    scores = cross_val_score(sr, X, y, scoring='r2', cv=5)\n",
    "\n",
    "    print(f'meta model : {i[0]}, mean r2 score : {np.round(np.mean(scores), 4)}\\n')"
   ]
  },
  {
   "attachments": {},
   "cell_type": "markdown",
   "metadata": {},
   "source": [
    "## voting"
   ]
  },
  {
   "cell_type": "code",
   "execution_count": 74,
   "metadata": {},
   "outputs": [
    {
     "name": "stdout",
     "output_type": "stream",
     "text": [
      "mean r2 score : 0.6598\n"
     ]
    }
   ],
   "source": [
    "models = [\n",
    "    ('lr', LinearRegression()),\n",
    "    ('rf', RandomForestRegressor(n_estimators = 10, max_depth = 4, min_samples_split = 128)),\n",
    "    ('xgb', XGBRegressor(max_depth = 3, n_estimators = 20)),\n",
    "    ('ridge', Ridge(alpha = 40)),\n",
    "    ('lgbm', LGBMRegressor(learning_rate = 0.05, max_depth = 3))\n",
    "]\n",
    "\n",
    "X = train_box_out.drop('y', axis = 1)\n",
    "y = train_box_out.y\n",
    "\n",
    "vt = VotingRegressor(estimators=models)\n",
    "\n",
    "scores = cross_val_score(vt, X, y, scoring='r2', cv=5)\n",
    "\n",
    "print(f'mean r2 score : {np.round(np.mean(scores), 4)}')"
   ]
  },
  {
   "attachments": {},
   "cell_type": "markdown",
   "metadata": {},
   "source": [
    "최적의 모델\n",
    "1. data : object type columns -> drop & one hot encoding  / target -> box_cox scaler / outlier expect value -> drop  \n",
    "2. estimator : stacking (base model : Random forest, XGB, lightGBM, Ridge / meta model : LinearRegressor)  \n",
    "\n",
    "mean r2 score : 0.6664"
   ]
  }
 ],
 "metadata": {
  "kernelspec": {
   "display_name": "machine_learning",
   "language": "python",
   "name": "python3"
  },
  "language_info": {
   "codemirror_mode": {
    "name": "ipython",
    "version": 3
   },
   "file_extension": ".py",
   "mimetype": "text/x-python",
   "name": "python",
   "nbconvert_exporter": "python",
   "pygments_lexer": "ipython3",
   "version": "3.8.16"
  },
  "orig_nbformat": 4
 },
 "nbformat": 4,
 "nbformat_minor": 2
}
